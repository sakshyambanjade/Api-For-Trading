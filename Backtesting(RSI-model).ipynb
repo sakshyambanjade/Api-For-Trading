{
 "cells": [
  {
   "cell_type": "markdown",
   "id": "d589ebe0-c578-411b-b736-f71564e7fbc4",
   "metadata": {},
   "source": [
    "# importing libraries "
   ]
  },
  {
   "cell_type": "code",
   "execution_count": 4,
   "id": "db6d76ec-52bd-4981-89a4-cbc292e44ee8",
   "metadata": {},
   "outputs": [],
   "source": [
    "import requests\n",
    "import pandas as pd\n",
    "import matplotlib.pyplot as plt"
   ]
  },
  {
   "cell_type": "markdown",
   "id": "56c21db4-9015-4375-aec4-a469442caf06",
   "metadata": {},
   "source": [
    "# Getting the API  "
   ]
  },
  {
   "cell_type": "code",
   "execution_count": 34,
   "id": "cb083384-611d-4e8b-b9af-4bea505cf661",
   "metadata": {},
   "outputs": [],
   "source": [
    "api_key = 'P3MO6BYAUBLASZRC'\n",
    "symbol = 'AAPL'\n",
    "url = f'https://www.alphavantage.co/query?function=TIME_SERIES_DAILY&symbol={symbol}&apikey={api_key}&outputsize=compact'"
   ]
  },
  {
   "cell_type": "markdown",
   "id": "1ffd3dae-3638-428d-a5c2-279e2ba053db",
   "metadata": {},
   "source": [
    "# Requesting the Data from the Api"
   ]
  },
  {
   "cell_type": "code",
   "execution_count": 36,
   "id": "2b1247e2-cf61-46b6-b762-844301a8491e",
   "metadata": {},
   "outputs": [],
   "source": [
    "responce = requests.get(url)\n",
    "data = responce.json()"
   ]
  },
  {
   "cell_type": "markdown",
   "id": "ed687388-8673-4be9-832f-c5f3b15eea9a",
   "metadata": {},
   "source": [
    "# Chaning the JSON data into a DataFrame"
   ]
  },
  {
   "cell_type": "code",
   "execution_count": 37,
   "id": "ca10e778-6dac-4ebc-a2ec-d9a08c62fef4",
   "metadata": {},
   "outputs": [],
   "source": [
    "daily_data = data['Time Series (Daily)']\n",
    "df = pd.DataFrame(daily_data).T\n",
    "df.index = pd.to_datetime(df.index)\n",
    "df = df.astype(float)\n",
    "df = df.sort_index()"
   ]
  },
  {
   "cell_type": "markdown",
   "id": "29fe966e-59b0-4489-bfe9-710c469ce966",
   "metadata": {},
   "source": [
    "# Ploting the Closing Prices"
   ]
  },
  {
   "cell_type": "code",
   "execution_count": null,
   "id": "7a4cb814-9b59-4e86-9ce6-49357ea2ab1f",
   "metadata": {},
   "outputs": [],
   "source": []
  }
 ],
 "metadata": {
  "kernelspec": {
   "display_name": "Python 3 (ipykernel)",
   "language": "python",
   "name": "python3"
  },
  "language_info": {
   "codemirror_mode": {
    "name": "ipython",
    "version": 3
   },
   "file_extension": ".py",
   "mimetype": "text/x-python",
   "name": "python",
   "nbconvert_exporter": "python",
   "pygments_lexer": "ipython3",
   "version": "3.12.4"
  }
 },
 "nbformat": 4,
 "nbformat_minor": 5
}
