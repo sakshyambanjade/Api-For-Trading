{
 "cells": [
  {
   "cell_type": "markdown",
   "id": "d589ebe0-c578-411b-b736-f71564e7fbc4",
   "metadata": {},
   "source": [
    "# importing libraries "
   ]
  },
  {
   "cell_type": "code",
   "execution_count": 4,
   "id": "db6d76ec-52bd-4981-89a4-cbc292e44ee8",
   "metadata": {},
   "outputs": [],
   "source": [
    "import requests\n",
    "import pandas as pd\n",
    "import matplotlib.pyplot as plt"
   ]
  },
  {
   "cell_type": "markdown",
   "id": "56c21db4-9015-4375-aec4-a469442caf06",
   "metadata": {},
   "source": [
    "# Getting the API  "
   ]
  },
  {
   "cell_type": "code",
   "execution_count": 7,
   "id": "cb083384-611d-4e8b-b9af-4bea505cf661",
   "metadata": {},
   "outputs": [],
   "source": [
    "api_key = 'P3MO6BYAUBLASZRC'\n",
    "symbol = 'AAPL'\n",
    "url =  f'https://www.alphavantage.co/query?fun...{symbol}&apikey={api_key}&outputsize=compact'"
   ]
  },
  {
   "cell_type": "markdown",
   "id": "1ffd3dae-3638-428d-a5c2-279e2ba053db",
   "metadata": {},
   "source": [
    "# Requesting the Data from the Api"
   ]
  },
  {
   "cell_type": "code",
   "execution_count": 14,
   "id": "2b1247e2-cf61-46b6-b762-844301a8491e",
   "metadata": {},
   "outputs": [],
   "source": [
    "responce = requests.get(url)\n",
    "data = responce.json()"
   ]
  },
  {
   "cell_type": "markdown",
   "id": "ed687388-8673-4be9-832f-c5f3b15eea9a",
   "metadata": {},
   "source": [
    "# Chaning the JSON data into a DataFrame"
   ]
  },
  {
   "cell_type": "code",
   "execution_count": 23,
   "id": "ca10e778-6dac-4ebc-a2ec-d9a08c62fef4",
   "metadata": {},
   "outputs": [
    {
     "name": "stdout",
     "output_type": "stream",
     "text": [
      "Time Series data not found. Check if the API call was successful.\n",
      "{'Error Message': 'This API function () does not exist.'}\n"
     ]
    }
   ],
   "source": [
    "daily_data = data.get('Time Series (Daily)', None)\n",
    "if daily_data is None:\n",
    "    print(\"Time Series data not found. Check if the API call was successful.\")\n",
    "    print(data)\n",
    "else:\n",
    "    df = pd.DataFrame(daily_data).T\n",
    "    df.index = pd.to_datetime(df.index)\n",
    "    df = df.astype(float)\n",
    "    df = df.sort_index()"
   ]
  },
  {
   "cell_type": "code",
   "execution_count": null,
   "id": "b9abf688-e6a9-4ce4-9427-ac5d0b576787",
   "metadata": {},
   "outputs": [],
   "source": []
  }
 ],
 "metadata": {
  "kernelspec": {
   "display_name": "Python 3 (ipykernel)",
   "language": "python",
   "name": "python3"
  },
  "language_info": {
   "codemirror_mode": {
    "name": "ipython",
    "version": 3
   },
   "file_extension": ".py",
   "mimetype": "text/x-python",
   "name": "python",
   "nbconvert_exporter": "python",
   "pygments_lexer": "ipython3",
   "version": "3.12.4"
  }
 },
 "nbformat": 4,
 "nbformat_minor": 5
}
